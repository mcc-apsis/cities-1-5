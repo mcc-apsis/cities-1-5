{
 "cells": [
  {
   "cell_type": "code",
   "execution_count": 1,
   "metadata": {
    "collapsed": true,
    "deletable": true,
    "editable": true
   },
   "outputs": [],
   "source": [
    "import os, sys, time, resource, re, gc, shutil\n",
    "from multiprocess import Pool\n",
    "from functools import partial\n",
    "from tabulate import tabulate\n",
    "from urllib.parse import urlparse, parse_qsl\n",
    "\n",
    "import matplotlib.pyplot as plt\n",
    "import numpy as np\n",
    "import pandas as pd\n",
    "from mongoengine.queryset.visitor import Q\n",
    "import django\n",
    "from django.db.models import Count, Sum\n",
    "sys.path.append('/home/galm/software/django/tmv/BasicBrowser/')\n",
    "os.environ.setdefault(\"DJANGO_SETTINGS_MODULE\", \"BasicBrowser.settings\")\n",
    "django.setup()\n",
    "\n",
    "from django.forms.models import model_to_dict\n",
    "\n",
    "from scoping.models import *\n",
    "from tmv_app.models import *\n",
    "from scipy import stats\n",
    "import ipy_table as tbl\n",
    "\n",
    "run_id = 359\n",
    "qid = 1603"
   ]
  },
  {
   "cell_type": "code",
   "execution_count": 2,
   "metadata": {
    "collapsed": true,
    "deletable": true,
    "editable": true
   },
   "outputs": [],
   "source": [
    "topics = Topic.objects.filter(run_id=181)\n",
    "dts = DocTopic.objects.filter(run_id=181)\n",
    "\n",
    "p1total = dts.filter(doc__PY__gt=2009,doc__PY__lt=2014).aggregate(t=Sum('score'))\n",
    "p2total = dts.filter(doc__PY__gt=2013,doc__PY__lt=2018).aggregate(t=Sum('score'))"
   ]
  },
  {
   "cell_type": "code",
   "execution_count": 3,
   "metadata": {
    "collapsed": false,
    "deletable": true,
    "editable": true
   },
   "outputs": [
    {
     "data": {
      "text/plain": [
       "{'t': 313.828131828615}"
      ]
     },
     "execution_count": 3,
     "metadata": {},
     "output_type": "execute_result"
    }
   ],
   "source": [
    "p1total"
   ]
  },
  {
   "cell_type": "code",
   "execution_count": 4,
   "metadata": {
    "collapsed": false,
    "deletable": true,
    "editable": true
   },
   "outputs": [
    {
     "data": {
      "text/plain": [
       "{'t': 482.821877065289}"
      ]
     },
     "execution_count": 4,
     "metadata": {},
     "output_type": "execute_result"
    }
   ],
   "source": [
    "p2total"
   ]
  },
  {
   "cell_type": "code",
   "execution_count": 5,
   "metadata": {
    "collapsed": false,
    "deletable": true,
    "editable": true
   },
   "outputs": [
    {
     "name": "stdout",
     "output_type": "stream",
     "text": [
      "{bicycl, cycl, cyclist}\n",
      "38.983610372093956\n",
      "{park, space, price}\n",
      "57.71585474271607\n",
      "{polici, instrument, effect}\n",
      "18.266387414500056\n",
      "{urban, land, citi}\n",
      "47.27189864087317\n",
      "{transit, rail, station}\n",
      "30.394877443807328\n",
      "{vehicl, electr, charg}\n",
      "76.28782461275621\n",
      "{recycl, household, collect}\n",
      "14.044720900164966\n",
      "{transport, public, access}\n",
      "9.617688005516303\n",
      "{water, heat, suppli}\n",
      "34.004856710783756\n",
      "{bus, servic, oper}\n",
      "22.17548574587257\n",
      "{green, build, roof}\n",
      "135.42122069972967\n",
      "{climat, chang, mitig}\n",
      "18.222567144032283\n",
      "{heat, thermal, comfort}\n",
      "32.267698292317974\n",
      "{toll, lane, link}\n",
      "-19.341891182904185\n",
      "{brt, bus, system}\n",
      "66.36134947819893\n",
      "{activ, school, health}\n",
      "13.884107758473075\n",
      "{air, pollut, qualiti}\n",
      "8.325408090322556\n",
      "{model, network, optim}\n",
      "32.26736430578555\n",
      "{treatment, wastewat, plant}\n",
      "-1.9167528998093541\n",
      "{emiss, carbon, ghg}\n",
      "29.830327526279188\n",
      "{travel, mode, choic}\n",
      "29.09757661019347\n",
      "{price, congest, road}\n",
      "-16.58607136873004\n",
      "{wast, manag, solid}\n",
      "-19.659099568765043\n",
      "{energi, build, consumpt}\n",
      "37.244865470044054\n",
      "{develop, sustain, plan}\n",
      "28.128131710603043\n",
      "[<Topic: Topic object>, <Topic: Topic object>, <Topic: Topic object>, <Topic: Topic object>, <Topic: Topic object>, <Topic: Topic object>, <Topic: Topic object>, <Topic: Topic object>, <Topic: Topic object>, <Topic: Topic object>, <Topic: Topic object>, <Topic: Topic object>, <Topic: Topic object>, <Topic: Topic object>, <Topic: Topic object>, <Topic: Topic object>, <Topic: Topic object>, <Topic: Topic object>, <Topic: Topic object>, <Topic: Topic object>, <Topic: Topic object>, <Topic: Topic object>, <Topic: Topic object>, <Topic: Topic object>, <Topic: Topic object>]\n",
      "38.983610372093956\n",
      "181\n",
      "57.71585474271607\n",
      "181\n",
      "18.266387414500056\n",
      "181\n",
      "47.27189864087317\n",
      "181\n",
      "30.394877443807328\n",
      "181\n",
      "76.28782461275621\n",
      "181\n",
      "14.044720900164966\n",
      "181\n",
      "9.617688005516303\n",
      "181\n",
      "34.004856710783756\n",
      "181\n",
      "22.17548574587257\n",
      "181\n",
      "135.42122069972967\n",
      "181\n",
      "18.222567144032283\n",
      "181\n",
      "32.267698292317974\n",
      "181\n",
      "-19.341891182904185\n",
      "181\n",
      "66.36134947819893\n",
      "181\n",
      "13.884107758473075\n",
      "181\n",
      "8.325408090322556\n",
      "181\n",
      "32.26736430578555\n",
      "181\n",
      "-1.9167528998093541\n",
      "181\n",
      "29.830327526279188\n",
      "181\n",
      "29.09757661019347\n",
      "181\n",
      "-16.58607136873004\n",
      "181\n",
      "-19.659099568765043\n",
      "181\n",
      "37.244865470044054\n",
      "181\n",
      "28.128131710603043\n",
      "181\n"
     ]
    }
   ],
   "source": [
    "topic_objects = []\n",
    "for t in topics:\n",
    "    t1 = dts.filter(doc__PY__gt=2007,doc__PY__lt=2013,topic=t).aggregate(t=Sum('score'))\n",
    "    t2 = dts.filter(doc__PY__gt=2012,doc__PY__lt=2018,topic=t).aggregate(t=Sum('score'))\n",
    "    p1 = t1['t'] / p1total['t']\n",
    "    p2 = t2['t'] / p2total['t']\n",
    "    growth = (p2 - p1) / p1*100\n",
    "    t.growth = float(growth)\n",
    "    t.save()\n",
    "    print(t.title)\n",
    "    print(t.growth)\n",
    "    t.save()\n",
    "    topic_objects.append(t)\n",
    "    \n",
    "print(topic_objects)\n",
    "for top in topic_objects:\n",
    "    print(top.growth)\n",
    "    print(top.run_id_id)\n",
    "    top.save()\n",
    "    \n",
    "#Topic.objects.update(topics)\n",
    "t.save()"
   ]
  },
  {
   "cell_type": "code",
   "execution_count": 6,
   "metadata": {
    "collapsed": false,
    "deletable": true,
    "editable": true
   },
   "outputs": [],
   "source": [
    "topic_table = topics.values('title','growth')\n",
    "df = pd.DataFrame.from_dict(list(topic_table))\n",
    "df.to_csv('../data/topic_growth_2010.csv')"
   ]
  },
  {
   "cell_type": "code",
   "execution_count": null,
   "metadata": {
    "collapsed": true,
    "deletable": true,
    "editable": true
   },
   "outputs": [],
   "source": []
  }
 ],
 "metadata": {
  "kernelspec": {
   "display_name": "Python 3",
   "language": "python",
   "name": "python3"
  },
  "language_info": {
   "codemirror_mode": {
    "name": "ipython",
    "version": 3
   },
   "file_extension": ".py",
   "mimetype": "text/x-python",
   "name": "python",
   "nbconvert_exporter": "python",
   "pygments_lexer": "ipython3",
   "version": "3.4.3"
  }
 },
 "nbformat": 4,
 "nbformat_minor": 2
}
