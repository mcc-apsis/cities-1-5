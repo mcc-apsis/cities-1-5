{
 "cells": [
  {
   "cell_type": "code",
   "execution_count": 1,
   "metadata": {
    "collapsed": true
   },
   "outputs": [],
   "source": [
    "import os, sys, time, resource, re, gc, shutil\n",
    "from multiprocess import Pool\n",
    "from functools import partial\n",
    "from tabulate import tabulate\n",
    "from urllib.parse import urlparse, parse_qsl\n",
    "\n",
    "import matplotlib.pyplot as plt\n",
    "import numpy as np\n",
    "import pandas as pd\n",
    "from mongoengine.queryset.visitor import Q\n",
    "import django\n",
    "from django.db.models import Count, Sum\n",
    "sys.path.append('/home/galm/software/tmv/BasicBrowser/')\n",
    "os.environ.setdefault(\"DJANGO_SETTINGS_MODULE\", \"BasicBrowser.settings\")\n",
    "django.setup()\n",
    "\n",
    "from django.forms.models import model_to_dict\n",
    "\n",
    "from scoping.models import *\n",
    "from tmv_app.models import *\n",
    "from scipy import stats\n",
    "import ipy_table as tbl\n",
    "\n",
    "run_id = 181\n",
    "qid = 1281"
   ]
  },
  {
   "cell_type": "code",
   "execution_count": 2,
   "metadata": {
    "collapsed": true
   },
   "outputs": [],
   "source": [
    "topics = Topic.objects.filter(run_id=181)\n",
    "dts = DocTopic.objects.filter(run_id=181)\n",
    "\n",
    "p1total = dts.filter(doc__PY__gt=2009,doc__PY__lt=2014).aggregate(t=Sum('score'))\n",
    "p2total = dts.filter(doc__PY__gt=2013,doc__PY__lt=2018).aggregate(t=Sum('score'))"
   ]
  },
  {
   "cell_type": "code",
   "execution_count": 3,
   "metadata": {
    "collapsed": false
   },
   "outputs": [
    {
     "data": {
      "text/plain": [
       "{'t': 304.886883627571}"
      ]
     },
     "execution_count": 3,
     "metadata": {},
     "output_type": "execute_result"
    }
   ],
   "source": [
    "p1total"
   ]
  },
  {
   "cell_type": "code",
   "execution_count": 4,
   "metadata": {
    "collapsed": false
   },
   "outputs": [
    {
     "data": {
      "text/plain": [
       "{'t': 583.587515019855}"
      ]
     },
     "execution_count": 4,
     "metadata": {},
     "output_type": "execute_result"
    }
   ],
   "source": [
    "p2total"
   ]
  },
  {
   "cell_type": "code",
   "execution_count": 5,
   "metadata": {
    "collapsed": false
   },
   "outputs": [
    {
     "name": "stdout",
     "output_type": "stream",
     "text": [
      "{polici, instrument, effect}\n",
      "-4.9418958237658215\n",
      "{urban, land, citi}\n",
      "18.371650553346157\n",
      "{park, space, price}\n",
      "26.766112317544593\n",
      "{transit, rail, station}\n",
      "4.8065313829059795\n",
      "{vehicl, electr, charg}\n",
      "41.693567913840354\n",
      "{recycl, household, collect}\n",
      "-8.33511366097385\n",
      "{transport, public, access}\n",
      "-11.893397322892232\n",
      "{water, heat, suppli}\n",
      "7.708097861229543\n",
      "{bus, servic, oper}\n",
      "-1.7999086155463713\n",
      "{green, build, roof}\n",
      "89.22278266721857\n",
      "{climat, chang, mitig}\n",
      "-4.977116920193816\n",
      "{heat, thermal, comfort}\n",
      "6.31183481875969\n",
      "{toll, lane, link}\n",
      "-35.17002524376201\n",
      "{brt, bus, system}\n",
      "33.71503801982712\n",
      "{activ, school, health}\n",
      "-8.464208504308415\n",
      "{air, pollut, qualiti}\n",
      "-12.932083643569362\n",
      "{model, network, optim}\n",
      "6.311566372862173\n",
      "{treatment, wastewat, plant}\n",
      "-21.164350035350164\n",
      "{emiss, carbon, ghg}\n",
      "4.352767248848828\n",
      "{bicycl, cycl, cyclist}\n",
      "11.709834064989696\n",
      "{travel, mode, choic}\n",
      "3.763809435567035\n",
      "{price, congest, road}\n",
      "-32.9550002251275\n",
      "{wast, manag, solid}\n",
      "-35.42498549449721\n",
      "{energi, build, consumpt}\n",
      "10.31229586628173\n",
      "{develop, sustain, plan}\n",
      "2.9846058404200426\n",
      "[<Topic: Topic object>, <Topic: Topic object>, <Topic: Topic object>, <Topic: Topic object>, <Topic: Topic object>, <Topic: Topic object>, <Topic: Topic object>, <Topic: Topic object>, <Topic: Topic object>, <Topic: Topic object>, <Topic: Topic object>, <Topic: Topic object>, <Topic: Topic object>, <Topic: Topic object>, <Topic: Topic object>, <Topic: Topic object>, <Topic: Topic object>, <Topic: Topic object>, <Topic: Topic object>, <Topic: Topic object>, <Topic: Topic object>, <Topic: Topic object>, <Topic: Topic object>, <Topic: Topic object>, <Topic: Topic object>]\n",
      "-4.9418958237658215\n",
      "181\n",
      "18.371650553346157\n",
      "181\n",
      "26.766112317544593\n",
      "181\n",
      "4.8065313829059795\n",
      "181\n",
      "41.693567913840354\n",
      "181\n",
      "-8.33511366097385\n",
      "181\n",
      "-11.893397322892232\n",
      "181\n",
      "7.708097861229543\n",
      "181\n",
      "-1.7999086155463713\n",
      "181\n",
      "89.22278266721857\n",
      "181\n",
      "-4.977116920193816\n",
      "181\n",
      "6.31183481875969\n",
      "181\n",
      "-35.17002524376201\n",
      "181\n",
      "33.71503801982712\n",
      "181\n",
      "-8.464208504308415\n",
      "181\n",
      "-12.932083643569362\n",
      "181\n",
      "6.311566372862173\n",
      "181\n",
      "-21.164350035350164\n",
      "181\n",
      "4.352767248848828\n",
      "181\n",
      "11.709834064989696\n",
      "181\n",
      "3.763809435567035\n",
      "181\n",
      "-32.9550002251275\n",
      "181\n",
      "-35.42498549449721\n",
      "181\n",
      "10.31229586628173\n",
      "181\n",
      "2.9846058404200426\n",
      "181\n"
     ]
    }
   ],
   "source": [
    "topic_objects = []\n",
    "for t in topics:\n",
    "    t1 = dts.filter(doc__PY__gt=2007,doc__PY__lt=2013,topic=t).aggregate(t=Sum('score'))\n",
    "    t2 = dts.filter(doc__PY__gt=2012,doc__PY__lt=2018,topic=t).aggregate(t=Sum('score'))\n",
    "    p1 = t1['t'] / p1total['t']\n",
    "    p2 = t2['t'] / p2total['t']\n",
    "    growth = (p2 - p1) / p1*100\n",
    "    t.growth = float(growth)\n",
    "    t.save()\n",
    "    print(t.title)\n",
    "    print(t.growth)\n",
    "    t.save()\n",
    "    topic_objects.append(t)\n",
    "    \n",
    "print(topic_objects)\n",
    "for top in topic_objects:\n",
    "    print(top.growth)\n",
    "    print(top.run_id_id)\n",
    "    top.save()\n",
    "    \n",
    "#Topic.objects.update(topics)\n",
    "t.save()"
   ]
  },
  {
   "cell_type": "code",
   "execution_count": 7,
   "metadata": {
    "collapsed": false
   },
   "outputs": [],
   "source": [
    "topic_table = topics.values('title','growth')\n",
    "df = pd.DataFrame.from_dict(list(topic_table))\n",
    "df.to_csv('../data/topic_growth.csv')"
   ]
  },
  {
   "cell_type": "code",
   "execution_count": null,
   "metadata": {
    "collapsed": true
   },
   "outputs": [],
   "source": []
  }
 ],
 "metadata": {
  "kernelspec": {
   "display_name": "Python 3",
   "language": "python",
   "name": "python3"
  },
  "language_info": {
   "codemirror_mode": {
    "name": "ipython",
    "version": 3
   },
   "file_extension": ".py",
   "mimetype": "text/x-python",
   "name": "python",
   "nbconvert_exporter": "python",
   "pygments_lexer": "ipython3",
   "version": "3.4.3"
  }
 },
 "nbformat": 4,
 "nbformat_minor": 2
}
