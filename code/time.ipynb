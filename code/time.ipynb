{
 "cells": [
  {
   "cell_type": "code",
   "execution_count": 2,
   "metadata": {
    "collapsed": false,
    "deletable": true,
    "editable": true
   },
   "outputs": [],
   "source": [
    "import os, sys, time, resource, re, gc, shutil\n",
    "from multiprocess import Pool\n",
    "from functools import partial\n",
    "from tabulate import tabulate\n",
    "from urllib.parse import urlparse, parse_qsl\n",
    "\n",
    "import matplotlib.pyplot as plt\n",
    "import numpy as np\n",
    "import pandas as pd\n",
    "from mongoengine.queryset.visitor import Q\n",
    "import django\n",
    "from django.db.models import Count, Sum\n",
    "sys.path.append('/home/galm/software/tmv/BasicBrowser/')\n",
    "os.environ.setdefault(\"DJANGO_SETTINGS_MODULE\", \"BasicBrowser.settings\")\n",
    "django.setup()\n",
    "\n",
    "from django.forms.models import model_to_dict\n",
    "\n",
    "from scoping.models import *\n",
    "from tmv_app.models import *\n",
    "from scipy import stats\n",
    "import ipy_table as tbl\n",
    "\n",
    "run_id = 181\n",
    "qid = 1281"
   ]
  },
  {
   "cell_type": "code",
   "execution_count": 3,
   "metadata": {
    "collapsed": true,
    "deletable": true,
    "editable": true
   },
   "outputs": [],
   "source": [
    "docs = Doc.objects.filter(query=qid)"
   ]
  },
  {
   "cell_type": "code",
   "execution_count": 9,
   "metadata": {
    "collapsed": false,
    "deletable": true,
    "editable": true
   },
   "outputs": [
    {
     "name": "stdout",
     "output_type": "stream",
     "text": [
      "{'{transit, rail, station}': 254, '{bus, servic, oper}': 249, '{toll, lane, link}': 190, '{bicycl, cycl, cyclist}': 153, '{treatment, wastewat, plant}': 270, '{urban, land, citi}': 321, '{recycl, household, collect}': 205, '{price, congest, road}': 342, '{air, pollut, qualiti}': 229, '{emiss, carbon, ghg}': 383, '{brt, bus, system}': 77, '{travel, mode, choic}': 332, '{polici, instrument, effect}': 129, '{vehicl, electr, charg}': 269, '{climat, chang, mitig}': 176, '{heat, thermal, comfort}': 471, '{energi, build, consumpt}': 779, '{wast, manag, solid}': 517, '{green, build, roof}': 165, '{activ, school, health}': 414, '{park, space, price}': 236, '{develop, sustain, plan}': 898, '{model, network, optim}': 435, '{transport, public, access}': 295, '{water, heat, suppli}': 145}\n",
      "{transit, rail, station}\n",
      "254\n",
      "{bus, servic, oper}\n",
      "249\n",
      "{toll, lane, link}\n",
      "190\n",
      "{bicycl, cycl, cyclist}\n",
      "153\n",
      "{treatment, wastewat, plant}\n",
      "270\n",
      "{urban, land, citi}\n",
      "321\n",
      "{recycl, household, collect}\n",
      "205\n",
      "{price, congest, road}\n",
      "342\n",
      "{air, pollut, qualiti}\n",
      "229\n",
      "{emiss, carbon, ghg}\n",
      "383\n",
      "{brt, bus, system}\n",
      "77\n",
      "{travel, mode, choic}\n",
      "332\n",
      "{polici, instrument, effect}\n",
      "129\n",
      "{vehicl, electr, charg}\n",
      "269\n",
      "{climat, chang, mitig}\n",
      "176\n",
      "{heat, thermal, comfort}\n",
      "471\n",
      "{energi, build, consumpt}\n",
      "779\n",
      "{wast, manag, solid}\n",
      "517\n",
      "{green, build, roof}\n",
      "165\n",
      "{activ, school, health}\n",
      "414\n",
      "{park, space, price}\n",
      "236\n",
      "{develop, sustain, plan}\n",
      "898\n",
      "{model, network, optim}\n",
      "435\n",
      "{transport, public, access}\n",
      "295\n",
      "{water, heat, suppli}\n",
      "145\n"
     ]
    }
   ],
   "source": [
    "calc_sizes = True\n",
    "if calc_sizes:\n",
    "    topic_sizes = {}\n",
    "    docs = Doc.objects.filter(query=qid,doctopic__isnull=False).distinct('UT')\n",
    "    for doc in docs.iterator():\n",
    "        t = doc.doctopic_set.filter(run_id=run_id).order_by('-score').first()\n",
    "        try:\n",
    "            topic_sizes[t.topic.title] +=1\n",
    "        except:\n",
    "            topic_sizes[t.topic.title] = 1\n",
    "\n",
    "    print(topic_sizes)\n",
    "\n",
    "    for key in topic_sizes:\n",
    "        print(key)\n",
    "        value = topic_sizes[key]\n",
    "        topic = Topic.objects.get(run_id=run_id,title=key)\n",
    "        topic.size = value\n",
    "        print(topic.size)\n",
    "        topic.save()"
   ]
  },
  {
   "cell_type": "code",
   "execution_count": 10,
   "metadata": {
    "collapsed": false,
    "deletable": true,
    "editable": true
   },
   "outputs": [
    {
     "data": {
      "text/html": [
       "<div>\n",
       "<table border=\"1\" class=\"dataframe\">\n",
       "  <thead>\n",
       "    <tr style=\"text-align: right;\">\n",
       "      <th></th>\n",
       "      <th>topic_size</th>\n",
       "      <th>topic</th>\n",
       "    </tr>\n",
       "  </thead>\n",
       "  <tbody>\n",
       "    <tr>\n",
       "      <th>0</th>\n",
       "      <td>321</td>\n",
       "      <td>{urban, land, citi}</td>\n",
       "    </tr>\n",
       "    <tr>\n",
       "      <th>1</th>\n",
       "      <td>236</td>\n",
       "      <td>{park, space, price}</td>\n",
       "    </tr>\n",
       "    <tr>\n",
       "      <th>2</th>\n",
       "      <td>254</td>\n",
       "      <td>{transit, rail, station}</td>\n",
       "    </tr>\n",
       "    <tr>\n",
       "      <th>3</th>\n",
       "      <td>269</td>\n",
       "      <td>{vehicl, electr, charg}</td>\n",
       "    </tr>\n",
       "    <tr>\n",
       "      <th>4</th>\n",
       "      <td>205</td>\n",
       "      <td>{recycl, household, collect}</td>\n",
       "    </tr>\n",
       "  </tbody>\n",
       "</table>\n",
       "</div>"
      ],
      "text/plain": [
       "   topic_size                         topic\n",
       "0         321           {urban, land, citi}\n",
       "1         236          {park, space, price}\n",
       "2         254      {transit, rail, station}\n",
       "3         269       {vehicl, electr, charg}\n",
       "4         205  {recycl, household, collect}"
      ]
     },
     "execution_count": 10,
     "metadata": {},
     "output_type": "execute_result"
    }
   ],
   "source": [
    "topic_sizes = list(Topic.objects.filter(run_id=run_id).values('title','size'))\n",
    "topics = pd.DataFrame.from_dict(list(topic_sizes)).rename(columns={'title':'topic','size':'topic_size'})\n",
    "topics.head()"
   ]
  },
  {
   "cell_type": "code",
   "execution_count": 13,
   "metadata": {
    "collapsed": false,
    "deletable": true,
    "editable": true
   },
   "outputs": [
    {
     "name": "stdout",
     "output_type": "stream",
     "text": [
      "282\n"
     ]
    }
   ],
   "source": [
    "tvalues = []\n",
    "dns = 0\n",
    "for d in docs:\n",
    "    \n",
    "    ns = [x for x in re.findall(\"[^0-9]+([2-3{1}][0-9]{3})[^0-9]+\",d.content) if int(x) > 2017 and int(x) < 2101]\n",
    "    if len(ns) > 0:\n",
    "        dns+=1\n",
    "        t = d.doctopic_set.filter(run_id=run_id).order_by('-score').first()\n",
    "        for n in ns:\n",
    "            v = {\n",
    "                \"doc\" : d.UT,\n",
    "                \"topic\" : t.topic.title,\n",
    "                \"topic_size\" : t.topic.size,\n",
    "                \"number\" : n,\n",
    "                \"abstract\": d.content\n",
    "            }\n",
    "            tvalues.append(v)\n",
    "            \n",
    "print(dns)"
   ]
  },
  {
   "cell_type": "code",
   "execution_count": 14,
   "metadata": {
    "collapsed": false,
    "deletable": true,
    "editable": true
   },
   "outputs": [
    {
     "data": {
      "text/plain": [
       "374"
      ]
     },
     "execution_count": 14,
     "metadata": {},
     "output_type": "execute_result"
    }
   ],
   "source": [
    "df = pd.DataFrame.from_dict(list(tvalues))\n",
    "df['number'] = pd.to_numeric(df['number'])\n",
    "df.head()\n",
    "len(df)"
   ]
  },
  {
   "cell_type": "code",
   "execution_count": 23,
   "metadata": {
    "collapsed": false,
    "deletable": true,
    "editable": true
   },
   "outputs": [
    {
     "name": "stdout",
     "output_type": "stream",
     "text": [
      "                             number      \n",
      "                             median count\n",
      "topic                                    \n",
      "{model, network, optim}      2020.0     3\n",
      "{vehicl, electr, charg}      2020.0    26\n",
      "{energi, build, consumpt}    2020.5    84\n",
      "{bus, servic, oper}          2021.0     1\n",
      "{transport, public, access}  2024.5    16\n"
     ]
    }
   ],
   "source": [
    "pdf = df[['topic','number']]\n",
    "g = pdf.groupby('topic').agg(['median','count']).sort_values(('number','median'))\n",
    "print(g.head())\n",
    "g['topic'] = g.index\n",
    "g = g.reset_index(drop=True)\n",
    "g['order'] = g.index\n",
    "g.columns = g.columns.get_level_values(0) + \"_\" + g.columns.get_level_values(1)\n",
    "g = g.rename(columns={\"topic_\":\"topic\",\"order_\":\"order\"})\n",
    "\n",
    "\n",
    "g['topic_label'] = g.apply(lambda x: \"{} [{}]\".format(x['topic'], (x['number_count'])) , axis=1)\n",
    "\n",
    "pdf = pd.merge(pdf,g[['topic','order']])\n",
    "pdf['topic'] = pdf.apply(lambda x: \"{:02d} {}\".format(x['order'], x['topic']) , axis=1)"
   ]
  },
  {
   "cell_type": "code",
   "execution_count": 24,
   "metadata": {
    "collapsed": false,
    "deletable": true,
    "editable": true
   },
   "outputs": [
    {
     "data": {
      "image/png": "[encoded data removed]",
      "text/plain": [
       "<matplotlib.figure.Figure at 0x7f6b74e8b748>"
      ]
     },
     "metadata": {},
     "output_type": "display_data"
    }
   ],
   "source": [
    "import matplotlib.pyplot as plt\n",
    "crosstab = pd.crosstab(df['topic'],df['number'])\n",
    "chi2, p, dof, expected = stats.chi2_contingency(crosstab.values)\n",
    "\n",
    "#tbl.make_table(results)\n",
    "plt.rcParams[\"figure.figsize\"] = [8,6]\n",
    "pdf.boxplot(column='number', by='topic', vert=False)\n",
    "plt.savefig('../plots/topic_years.png',bbox_inches='tight')  \n",
    "\n",
    "plt.text(\n",
    "    2080,20,'$\\chi^2$: {0:.3g}\\n$p$: {1:.3g}'.format(chi2,p),\n",
    "    bbox={'facecolor':'#e5f5f9', 'alpha':0.5, 'pad':10}\n",
    ")\n",
    "\n",
    "plt.title('Years found in abstracts by largest topic')\n",
    "plt.suptitle('')\n",
    "\n",
    "#fig, ax = plt.subplots()\n",
    "plt.yticks(g.index+1,g.topic_label)\n",
    "plt.xlabel('Year')\n",
    "plt.ylabel('Topic [no documents]')\n",
    "\n",
    "plt.savefig('../plots/topic_years.png',bbox_inches='tight')\n",
    "plt.savefig('../plots/topic_years.svg',bbox_inches='tight')\n",
    "\n",
    "plt.show()\n",
    "\n"
   ]
  },
  {
   "cell_type": "code",
   "execution_count": 18,
   "metadata": {
    "collapsed": false,
    "deletable": true,
    "editable": true
   },
   "outputs": [],
   "source": [
    "df.to_csv(\"../data/years.csv\")"
   ]
  },
  {
   "cell_type": "code",
   "execution_count": 19,
   "metadata": {
    "collapsed": false,
    "deletable": true,
    "editable": true
   },
   "outputs": [
    {
     "name": "stdout",
     "output_type": "stream",
     "text": [
      "                           topic  number_median  number_mean  number_std dev  \\\n",
      "0        {model, network, optim}         2020.0  2019.666667        0.577350   \n",
      "1        {vehicl, electr, charg}         2020.0  2025.961538        9.763117   \n",
      "2      {energi, build, consumpt}         2020.5  2028.000000       11.114952   \n",
      "3            {bus, servic, oper}         2021.0  2021.000000             NaN   \n",
      "4    {transport, public, access}         2024.5  2031.312500       13.001122   \n",
      "5       {transit, rail, station}         2025.0  2025.000000        7.071068   \n",
      "6         {price, congest, road}         2025.0  2025.000000        7.071068   \n",
      "7           {wast, manag, solid}         2025.0  2029.000000       12.456591   \n",
      "8   {treatment, wastewat, plant}         2026.0  2037.833333       30.629506   \n",
      "9       {heat, thermal, comfort}         2027.5  2033.900000       17.381024   \n",
      "10         {water, heat, suppli}         2028.5  2031.916667       10.689488   \n",
      "11          {emiss, carbon, ghg}         2030.0  2032.888889       15.888239   \n",
      "12          {park, space, price}         2030.0  2030.000000             NaN   \n",
      "13  {polici, instrument, effect}         2030.0  2030.000000       12.247449   \n",
      "14      {develop, sustain, plan}         2030.0  2034.500000       13.209845   \n",
      "15  {recycl, household, collect}         2030.0  2034.000000       15.165751   \n",
      "16        {climat, chang, mitig}         2030.0  2043.000000       24.297756   \n",
      "17         {travel, mode, choic}         2030.0  2030.500000        8.185353   \n",
      "18       {bicycl, cycl, cyclist}         2030.0  2030.000000             NaN   \n",
      "19        {air, pollut, qualiti}         2030.0  2031.600000       12.249263   \n",
      "20            {brt, bus, system}         2040.0  2040.000000        8.164966   \n",
      "21           {urban, land, citi}         2040.0  2038.928571       11.124915   \n",
      "22       {activ, school, health}         2040.0  2040.000000       14.142136   \n",
      "23          {green, build, roof}         2050.0  2040.200000       13.971399   \n",
      "24            {toll, lane, link}            NaN          NaN             NaN   \n",
      "\n",
      "    number_count  topic_size  \n",
      "0            3.0         435  \n",
      "1           26.0         269  \n",
      "2           84.0         779  \n",
      "3            1.0         249  \n",
      "4           16.0         295  \n",
      "5            2.0         254  \n",
      "6            2.0         342  \n",
      "7           13.0         517  \n",
      "8            6.0         270  \n",
      "9           10.0         471  \n",
      "10          12.0         145  \n",
      "11         108.0         383  \n",
      "12           1.0         236  \n",
      "13           5.0         129  \n",
      "14          18.0         898  \n",
      "15           5.0         205  \n",
      "16          22.0         176  \n",
      "17           4.0         332  \n",
      "18           1.0         153  \n",
      "19          10.0         229  \n",
      "20           4.0          77  \n",
      "21          14.0         321  \n",
      "22           2.0         414  \n",
      "23           5.0         165  \n",
      "24           NaN         190  \n"
     ]
    }
   ],
   "source": [
    "g = df[['topic','number']].groupby(['topic'], as_index=False)\n",
    "g = g.agg(['median','mean',np.std, 'count'], as_index=False).rename(columns={'std': 'std dev'}).reset_index()\n",
    "g.columns = g.columns.get_level_values(0) + \"_\" + g.columns.get_level_values(1)\n",
    "g = g.rename(columns={'topic_':'topic'}).sort_values('number_median')\n",
    "\n",
    "topic_summary = pd.merge(g,topics,how='right')\n",
    "print(topic_summary)\n",
    "topic_summary.to_csv(\"../data/year_summaries.csv\")"
   ]
  },
  {
   "cell_type": "code",
   "execution_count": null,
   "metadata": {
    "collapsed": true,
    "deletable": true,
    "editable": true
   },
   "outputs": [],
   "source": []
  },
  {
   "cell_type": "code",
   "execution_count": null,
   "metadata": {
    "collapsed": true
   },
   "outputs": [],
   "source": []
  }
 ],
 "metadata": {
  "kernelspec": {
   "display_name": "Python 3",
   "language": "python",
   "name": "python3"
  },
  "language_info": {
   "codemirror_mode": {
    "name": "ipython",
    "version": 3
   },
   "file_extension": ".py",
   "mimetype": "text/x-python",
   "name": "python",
   "nbconvert_exporter": "python",
   "pygments_lexer": "ipython3",
   "version": "3.4.3"
  }
 },
 "nbformat": 4,
 "nbformat_minor": 2
}
