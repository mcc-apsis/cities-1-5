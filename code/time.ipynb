{
 "cells": [
  {
   "cell_type": "code",
   "execution_count": 1,
   "metadata": {
    "collapsed": false,
    "deletable": true,
    "editable": true
   },
   "outputs": [],
   "source": [
    "import os, sys, time, resource, re, gc, shutil\n",
    "from multiprocess import Pool\n",
    "from functools import partial\n",
    "from tabulate import tabulate\n",
    "from urllib.parse import urlparse, parse_qsl\n",
    "\n",
    "import matplotlib.pyplot as plt\n",
    "import numpy as np\n",
    "import pandas as pd\n",
    "from mongoengine.queryset.visitor import Q\n",
    "import django\n",
    "from django.db.models import Count, Sum\n",
    "sys.path.append('/home/galm/software/tmv/BasicBrowser/')\n",
    "os.environ.setdefault(\"DJANGO_SETTINGS_MODULE\", \"BasicBrowser.settings\")\n",
    "django.setup()\n",
    "\n",
    "from django.forms.models import model_to_dict\n",
    "\n",
    "from scoping.models import *\n",
    "from tmv_app.models import *\n",
    "from scipy import stats\n",
    "import ipy_table as tbl\n",
    "\n",
    "run_id = 96\n",
    "qid = 1053"
   ]
  },
  {
   "cell_type": "code",
   "execution_count": 2,
   "metadata": {
    "collapsed": true,
    "deletable": true,
    "editable": true
   },
   "outputs": [],
   "source": [
    "docs = Doc.objects.filter(query=qid)"
   ]
  },
  {
   "cell_type": "code",
   "execution_count": 6,
   "metadata": {
    "collapsed": false
   },
   "outputs": [
    {
     "name": "stdout",
     "output_type": "stream",
     "text": [
      "{'{transport, public, servic}': 330, '{vehicl, charg, electr}': 241, '{urban, land, citi}': 309, '{treatment, water, wastewat}': 245, '{travel, mode, choic}': 317, '{polici, develop, plan}': 853, '{air, pollut, exposur}': 222, '{bicycl, cycl, cyclist}': 146, '{recycl, household, collect}': 193, '{build, energi, perform}': 349, '{green, roof, infrastructur}': 158, '{transit, bus, servic}': 393, '{emiss, carbon, ghg}': 217, '{heat, thermal, temperatur}': 381, '{wast, manag, solid}': 525, '{toll, lane, link}': 186, '{model, network, optim}': 482, '{park, space, price}': 225, '{hous, passiv, construct}': 143, '{energi, consumpt, effici}': 467, '{price, congest, road}': 316, '{activ, school, walk}': 379}\n"
     ]
    }
   ],
   "source": [
    "calc_sizes = False\n",
    "if calc_sizes:\n",
    "    topic_sizes = {}\n",
    "    docs = Doc.objects.filter(query=qid,doctopic__isnull=False).distinct('UT')\n",
    "    for doc in docs.iterator():\n",
    "        t = doc.doctopic_set.filter(run_id=96).order_by('-score').first()\n",
    "        try:\n",
    "            topic_sizes[t.topic.title] +=1\n",
    "        except:\n",
    "            topic_sizes[t.topic.title] = 1\n",
    "\n",
    "    print(topic_sizes)\n",
    "\n",
    "    for key in topic_sizes:\n",
    "        print(key)\n",
    "        value = topic_sizes[key]\n",
    "        topic = Topic.objects.get(run_id=run_id,title=key)\n",
    "        topic.size = value\n",
    "        print(topic.size)\n",
    "        topic.save()"
   ]
  },
  {
   "cell_type": "code",
   "execution_count": 150,
   "metadata": {
    "collapsed": false
   },
   "outputs": [
    {
     "data": {
      "text/html": [
       "<div>\n",
       "<table border=\"1\" class=\"dataframe\">\n",
       "  <thead>\n",
       "    <tr style=\"text-align: right;\">\n",
       "      <th></th>\n",
       "      <th>topic_size</th>\n",
       "      <th>topic</th>\n",
       "    </tr>\n",
       "  </thead>\n",
       "  <tbody>\n",
       "    <tr>\n",
       "      <th>0</th>\n",
       "      <td>853</td>\n",
       "      <td>{polici, develop, plan}</td>\n",
       "    </tr>\n",
       "    <tr>\n",
       "      <th>1</th>\n",
       "      <td>467</td>\n",
       "      <td>{energi, consumpt, effici}</td>\n",
       "    </tr>\n",
       "    <tr>\n",
       "      <th>2</th>\n",
       "      <td>525</td>\n",
       "      <td>{wast, manag, solid}</td>\n",
       "    </tr>\n",
       "    <tr>\n",
       "      <th>3</th>\n",
       "      <td>316</td>\n",
       "      <td>{price, congest, road}</td>\n",
       "    </tr>\n",
       "    <tr>\n",
       "      <th>4</th>\n",
       "      <td>225</td>\n",
       "      <td>{park, space, price}</td>\n",
       "    </tr>\n",
       "  </tbody>\n",
       "</table>\n",
       "</div>"
      ],
      "text/plain": [
       "   topic_size                       topic\n",
       "0         853     {polici, develop, plan}\n",
       "1         467  {energi, consumpt, effici}\n",
       "2         525        {wast, manag, solid}\n",
       "3         316      {price, congest, road}\n",
       "4         225        {park, space, price}"
      ]
     },
     "execution_count": 150,
     "metadata": {},
     "output_type": "execute_result"
    }
   ],
   "source": [
    "topic_sizes = list(Topic.objects.filter(run_id=run_id).values('title','size'))\n",
    "topics = pd.DataFrame.from_dict(list(topic_sizes)).rename(columns={'title':'topic','size':'topic_size'})\n",
    "topics.head()"
   ]
  },
  {
   "cell_type": "code",
   "execution_count": 14,
   "metadata": {
    "collapsed": false,
    "deletable": true,
    "editable": true
   },
   "outputs": [
    {
     "name": "stdout",
     "output_type": "stream",
     "text": [
      "186\n"
     ]
    }
   ],
   "source": [
    "tvalues = []\n",
    "dns = 0\n",
    "for d in docs:\n",
    "    \n",
    "    ns = [x for x in re.findall(\"[^0-9]+([2-3{1}][0-9]{3})[^0-9]+\",d.content) if int(x) > 2017 and int(x) < 2101]\n",
    "    if len(ns) > 0:\n",
    "        dns+=1\n",
    "        t = d.doctopic_set.filter(run_id=96).order_by('-score').first()\n",
    "        for n in ns:\n",
    "            v = {\n",
    "                \"doc\" : d.UT,\n",
    "                \"topic\" : t.topic.title,\n",
    "                \"topic_size\" : t.topic.size,\n",
    "                \"number\" : n,\n",
    "                \"abstract\": d.content\n",
    "            }\n",
    "            tvalues.append(v)\n",
    "            \n",
    "print(dns)"
   ]
  },
  {
   "cell_type": "code",
   "execution_count": 151,
   "metadata": {
    "collapsed": false,
    "deletable": true,
    "editable": true
   },
   "outputs": [
    {
     "data": {
      "text/plain": [
       "234"
      ]
     },
     "execution_count": 151,
     "metadata": {},
     "output_type": "execute_result"
    }
   ],
   "source": [
    "df = pd.DataFrame.from_dict(list(tvalues))\n",
    "df['number'] = pd.to_numeric(df['number'])\n",
    "df.head()\n",
    "len(df)"
   ]
  },
  {
   "cell_type": "code",
   "execution_count": 294,
   "metadata": {
    "collapsed": false
   },
   "outputs": [
    {
     "name": "stdout",
     "output_type": "stream",
     "text": [
      "                          number      \n",
      "                          median count\n",
      "topic                                 \n",
      "{build, energi, perform}  2020.0    21\n",
      "{model, network, optim}   2020.0     1\n",
      "{vehicl, charg, electr}   2020.0    18\n",
      "{price, congest, road}    2020.0     1\n",
      "{travel, mode, choic}     2021.0     3\n",
      "   number_median  number_count                     topic  order_\n",
      "0         2020.0            21  {build, energi, perform}       0\n",
      "1         2020.0             1   {model, network, optim}       1\n",
      "2         2020.0            18   {vehicl, charg, electr}       2\n",
      "3         2020.0             1    {price, congest, road}       3\n",
      "4         2021.0             3     {travel, mode, choic}       4\n",
      "   number_median  number_count                     topic  order_  \\\n",
      "0         2020.0            21  {build, energi, perform}       0   \n",
      "1         2020.0             1   {model, network, optim}       1   \n",
      "2         2020.0            18   {vehicl, charg, electr}       2   \n",
      "3         2020.0             1    {price, congest, road}       3   \n",
      "4         2021.0             3     {travel, mode, choic}       4   \n",
      "\n",
      "                     topic_label  \n",
      "0  {build, energi, perform} [21]  \n",
      "1    {model, network, optim} [1]  \n",
      "2   {vehicl, charg, electr} [18]  \n",
      "3     {price, congest, road} [1]  \n",
      "4      {travel, mode, choic} [3]  \n"
     ]
    },
    {
     "ename": "KeyError",
     "evalue": "\"['order'] not in index\"",
     "output_type": "error",
     "traceback": [
      "\u001b[0;31m---------------------------------------------------------------------------\u001b[0m",
      "\u001b[0;31mKeyError\u001b[0m                                  Traceback (most recent call last)",
      "\u001b[0;32m<ipython-input-294-c86fcc72964d>\u001b[0m in \u001b[0;36m<module>\u001b[0;34m()\u001b[0m\n\u001b[1;32m     13\u001b[0m \u001b[0mprint\u001b[0m\u001b[0;34m(\u001b[0m\u001b[0mg\u001b[0m\u001b[0;34m.\u001b[0m\u001b[0mhead\u001b[0m\u001b[0;34m(\u001b[0m\u001b[0;34m)\u001b[0m\u001b[0;34m)\u001b[0m\u001b[0;34m\u001b[0m\u001b[0m\n\u001b[1;32m     14\u001b[0m \u001b[0;34m\u001b[0m\u001b[0m\n\u001b[0;32m---> 15\u001b[0;31m \u001b[0mpdf\u001b[0m \u001b[0;34m=\u001b[0m \u001b[0mpd\u001b[0m\u001b[0;34m.\u001b[0m\u001b[0mmerge\u001b[0m\u001b[0;34m(\u001b[0m\u001b[0mpdf\u001b[0m\u001b[0;34m,\u001b[0m\u001b[0mg\u001b[0m\u001b[0;34m[\u001b[0m\u001b[0;34m[\u001b[0m\u001b[0;34m'topic'\u001b[0m\u001b[0;34m,\u001b[0m\u001b[0;34m'order'\u001b[0m\u001b[0;34m]\u001b[0m\u001b[0;34m]\u001b[0m\u001b[0;34m)\u001b[0m\u001b[0;34m\u001b[0m\u001b[0m\n\u001b[0m\u001b[1;32m     16\u001b[0m \u001b[0mpdf\u001b[0m\u001b[0;34m[\u001b[0m\u001b[0;34m'topic'\u001b[0m\u001b[0;34m]\u001b[0m \u001b[0;34m=\u001b[0m \u001b[0mpdf\u001b[0m\u001b[0;34m.\u001b[0m\u001b[0mapply\u001b[0m\u001b[0;34m(\u001b[0m\u001b[0;32mlambda\u001b[0m \u001b[0mx\u001b[0m\u001b[0;34m:\u001b[0m \u001b[0;34m\"{:02d} {}\"\u001b[0m\u001b[0;34m.\u001b[0m\u001b[0mformat\u001b[0m\u001b[0;34m(\u001b[0m\u001b[0mx\u001b[0m\u001b[0;34m[\u001b[0m\u001b[0;34m'order'\u001b[0m\u001b[0;34m]\u001b[0m\u001b[0;34m,\u001b[0m \u001b[0mx\u001b[0m\u001b[0;34m[\u001b[0m\u001b[0;34m'topic'\u001b[0m\u001b[0;34m]\u001b[0m\u001b[0;34m)\u001b[0m \u001b[0;34m,\u001b[0m \u001b[0maxis\u001b[0m\u001b[0;34m=\u001b[0m\u001b[0;36m1\u001b[0m\u001b[0;34m)\u001b[0m\u001b[0;34m\u001b[0m\u001b[0m\n",
      "\u001b[0;32m/usr/local/lib/python3.4/dist-packages/pandas/core/frame.py\u001b[0m in \u001b[0;36m__getitem__\u001b[0;34m(self, key)\u001b[0m\n\u001b[1;32m   2051\u001b[0m         \u001b[0;32mif\u001b[0m \u001b[0misinstance\u001b[0m\u001b[0;34m(\u001b[0m\u001b[0mkey\u001b[0m\u001b[0;34m,\u001b[0m \u001b[0;34m(\u001b[0m\u001b[0mSeries\u001b[0m\u001b[0;34m,\u001b[0m \u001b[0mnp\u001b[0m\u001b[0;34m.\u001b[0m\u001b[0mndarray\u001b[0m\u001b[0;34m,\u001b[0m \u001b[0mIndex\u001b[0m\u001b[0;34m,\u001b[0m \u001b[0mlist\u001b[0m\u001b[0;34m)\u001b[0m\u001b[0;34m)\u001b[0m\u001b[0;34m:\u001b[0m\u001b[0;34m\u001b[0m\u001b[0m\n\u001b[1;32m   2052\u001b[0m             \u001b[0;31m# either boolean or fancy integer index\u001b[0m\u001b[0;34m\u001b[0m\u001b[0;34m\u001b[0m\u001b[0m\n\u001b[0;32m-> 2053\u001b[0;31m             \u001b[0;32mreturn\u001b[0m \u001b[0mself\u001b[0m\u001b[0;34m.\u001b[0m\u001b[0m_getitem_array\u001b[0m\u001b[0;34m(\u001b[0m\u001b[0mkey\u001b[0m\u001b[0;34m)\u001b[0m\u001b[0;34m\u001b[0m\u001b[0m\n\u001b[0m\u001b[1;32m   2054\u001b[0m         \u001b[0;32melif\u001b[0m \u001b[0misinstance\u001b[0m\u001b[0;34m(\u001b[0m\u001b[0mkey\u001b[0m\u001b[0;34m,\u001b[0m \u001b[0mDataFrame\u001b[0m\u001b[0;34m)\u001b[0m\u001b[0;34m:\u001b[0m\u001b[0;34m\u001b[0m\u001b[0m\n\u001b[1;32m   2055\u001b[0m             \u001b[0;32mreturn\u001b[0m \u001b[0mself\u001b[0m\u001b[0;34m.\u001b[0m\u001b[0m_getitem_frame\u001b[0m\u001b[0;34m(\u001b[0m\u001b[0mkey\u001b[0m\u001b[0;34m)\u001b[0m\u001b[0;34m\u001b[0m\u001b[0m\n",
      "\u001b[0;32m/usr/local/lib/python3.4/dist-packages/pandas/core/frame.py\u001b[0m in \u001b[0;36m_getitem_array\u001b[0;34m(self, key)\u001b[0m\n\u001b[1;32m   2095\u001b[0m             \u001b[0;32mreturn\u001b[0m \u001b[0mself\u001b[0m\u001b[0;34m.\u001b[0m\u001b[0mtake\u001b[0m\u001b[0;34m(\u001b[0m\u001b[0mindexer\u001b[0m\u001b[0;34m,\u001b[0m \u001b[0maxis\u001b[0m\u001b[0;34m=\u001b[0m\u001b[0;36m0\u001b[0m\u001b[0;34m,\u001b[0m \u001b[0mconvert\u001b[0m\u001b[0;34m=\u001b[0m\u001b[0;32mFalse\u001b[0m\u001b[0;34m)\u001b[0m\u001b[0;34m\u001b[0m\u001b[0m\n\u001b[1;32m   2096\u001b[0m         \u001b[0;32melse\u001b[0m\u001b[0;34m:\u001b[0m\u001b[0;34m\u001b[0m\u001b[0m\n\u001b[0;32m-> 2097\u001b[0;31m             \u001b[0mindexer\u001b[0m \u001b[0;34m=\u001b[0m \u001b[0mself\u001b[0m\u001b[0;34m.\u001b[0m\u001b[0mix\u001b[0m\u001b[0;34m.\u001b[0m\u001b[0m_convert_to_indexer\u001b[0m\u001b[0;34m(\u001b[0m\u001b[0mkey\u001b[0m\u001b[0;34m,\u001b[0m \u001b[0maxis\u001b[0m\u001b[0;34m=\u001b[0m\u001b[0;36m1\u001b[0m\u001b[0;34m)\u001b[0m\u001b[0;34m\u001b[0m\u001b[0m\n\u001b[0m\u001b[1;32m   2098\u001b[0m             \u001b[0;32mreturn\u001b[0m \u001b[0mself\u001b[0m\u001b[0;34m.\u001b[0m\u001b[0mtake\u001b[0m\u001b[0;34m(\u001b[0m\u001b[0mindexer\u001b[0m\u001b[0;34m,\u001b[0m \u001b[0maxis\u001b[0m\u001b[0;34m=\u001b[0m\u001b[0;36m1\u001b[0m\u001b[0;34m,\u001b[0m \u001b[0mconvert\u001b[0m\u001b[0;34m=\u001b[0m\u001b[0;32mTrue\u001b[0m\u001b[0;34m)\u001b[0m\u001b[0;34m\u001b[0m\u001b[0m\n\u001b[1;32m   2099\u001b[0m \u001b[0;34m\u001b[0m\u001b[0m\n",
      "\u001b[0;32m/usr/local/lib/python3.4/dist-packages/pandas/core/indexing.py\u001b[0m in \u001b[0;36m_convert_to_indexer\u001b[0;34m(self, obj, axis, is_setter)\u001b[0m\n\u001b[1;32m   1228\u001b[0m                 \u001b[0mmask\u001b[0m \u001b[0;34m=\u001b[0m \u001b[0mcheck\u001b[0m \u001b[0;34m==\u001b[0m \u001b[0;34m-\u001b[0m\u001b[0;36m1\u001b[0m\u001b[0;34m\u001b[0m\u001b[0m\n\u001b[1;32m   1229\u001b[0m                 \u001b[0;32mif\u001b[0m \u001b[0mmask\u001b[0m\u001b[0;34m.\u001b[0m\u001b[0many\u001b[0m\u001b[0;34m(\u001b[0m\u001b[0;34m)\u001b[0m\u001b[0;34m:\u001b[0m\u001b[0;34m\u001b[0m\u001b[0m\n\u001b[0;32m-> 1230\u001b[0;31m                     \u001b[0;32mraise\u001b[0m \u001b[0mKeyError\u001b[0m\u001b[0;34m(\u001b[0m\u001b[0;34m'%s not in index'\u001b[0m \u001b[0;34m%\u001b[0m \u001b[0mobjarr\u001b[0m\u001b[0;34m[\u001b[0m\u001b[0mmask\u001b[0m\u001b[0;34m]\u001b[0m\u001b[0;34m)\u001b[0m\u001b[0;34m\u001b[0m\u001b[0m\n\u001b[0m\u001b[1;32m   1231\u001b[0m \u001b[0;34m\u001b[0m\u001b[0m\n\u001b[1;32m   1232\u001b[0m                 \u001b[0;32mreturn\u001b[0m \u001b[0m_values_from_object\u001b[0m\u001b[0;34m(\u001b[0m\u001b[0mindexer\u001b[0m\u001b[0;34m)\u001b[0m\u001b[0;34m\u001b[0m\u001b[0m\n",
      "\u001b[0;31mKeyError\u001b[0m: \"['order'] not in index\""
     ]
    }
   ],
   "source": [
    "pdf = df[['topic','number']]\n",
    "g = pdf.groupby('topic').agg(['median','count']).sort_values(('number','median'))\n",
    "print(g.head())\n",
    "g['topic'] = g.index\n",
    "g = g.reset_index(drop=True)\n",
    "g['order'] = g.index\n",
    "g.columns = g.columns.get_level_values(0) + \"_\" + g.columns.get_level_values(1)\n",
    "g = g.rename(columns={\"topic_\":\"topic\",\"order_\"})\n",
    "print(g.head())\n",
    "\n",
    "\n",
    "g['topic_label'] = g.apply(lambda x: \"{} [{}]\".format(x['topic'], (x['number_count'])) , axis=1)\n",
    "print(g.head())\n",
    "\n",
    "pdf = pd.merge(pdf,g[['topic','order']])\n",
    "pdf['topic'] = pdf.apply(lambda x: \"{:02d} {}\".format(x['order'], x['topic']) , axis=1)"
   ]
  },
  {
   "cell_type": "code",
   "execution_count": 280,
   "metadata": {
    "collapsed": false,
    "deletable": true,
    "editable": true
   },
   "outputs": [
    {
     "data": {
      "image/png": "[encoded data removed]",
      "text/plain": [
       "<matplotlib.figure.Figure at 0x7f44009424a8>"
      ]
     },
     "metadata": {},
     "output_type": "display_data"
    }
   ],
   "source": [
    "import matplotlib.pyplot as plt\n",
    "crosstab = pd.crosstab(df['topic'],df['number'])\n",
    "chi2, p, dof, expected = stats.chi2_contingency(crosstab.values)\n",
    "\n",
    "tbl.make_table(results)\n",
    "plt.rcParams[\"figure.figsize\"] = [8,6]\n",
    "pdf.boxplot(column='number', by='topic', vert=False)\n",
    "plt.savefig('../plots/topic_years.png',bbox_inches='tight')  \n",
    "\n",
    "plt.text(\n",
    "    2080,17,'$\\chi^2$: {0:.3g}\\n$p$: {1:.3g}'.format(chi2,p),\n",
    "    bbox={'facecolor':'#e5f5f9', 'alpha':0.5, 'pad':10}\n",
    ")\n",
    "\n",
    "plt.title('Years found in abstracts by largest topic')\n",
    "plt.suptitle('')\n",
    "\n",
    "#fig, ax = plt.subplots()\n",
    "plt.yticks(g.index+1,g.topic_label)\n",
    "plt.xlabel('Year')\n",
    "plt.ylabel('Topic [no documents]')\n",
    "\n",
    "plt.show()\n"
   ]
  },
  {
   "cell_type": "code",
   "execution_count": 258,
   "metadata": {
    "collapsed": false,
    "deletable": true,
    "editable": true
   },
   "outputs": [],
   "source": [
    "df.to_csv(\"../data/years.csv\")"
   ]
  },
  {
   "cell_type": "code",
   "execution_count": 273,
   "metadata": {
    "collapsed": false
   },
   "outputs": [
    {
     "name": "stdout",
     "output_type": "stream",
     "text": [
      "                           topic  number_median  number_mean  number_std dev  \\\n",
      "0       {build, energi, perform}         2020.0  2032.476190       22.037738   \n",
      "1        {model, network, optim}         2020.0  2020.000000             NaN   \n",
      "2        {vehicl, charg, electr}         2020.0  2027.777778       11.143743   \n",
      "3         {price, congest, road}         2020.0  2020.000000             NaN   \n",
      "4          {travel, mode, choic}         2021.0  2023.666667        5.507571   \n",
      "5     {energi, consumpt, effici}         2023.0  2028.435484       11.228799   \n",
      "6    {transport, public, servic}         2024.0  2029.181818       12.064976   \n",
      "7           {emiss, carbon, ghg}         2025.0  2029.513514       10.856697   \n",
      "8           {wast, manag, solid}         2026.5  2036.700000       25.002444   \n",
      "9         {transit, bus, servic}         2030.0  2033.333333       15.275252   \n",
      "10  {recycl, household, collect}         2030.0  2034.000000       15.165751   \n",
      "11        {air, pollut, exposur}         2030.0  2035.000000       10.000000   \n",
      "12   {heat, thermal, temperatur}         2030.0  2035.454545       15.068933   \n",
      "13       {bicycl, cycl, cyclist}         2030.0  2030.000000             NaN   \n",
      "14       {polici, develop, plan}         2030.0  2035.272727       18.764662   \n",
      "15          {park, space, price}         2030.0  2030.000000             NaN   \n",
      "16     {hous, passiv, construct}         2035.0  2038.333333       10.408330   \n",
      "17  {treatment, water, wastewat}         2035.0  2030.666667        9.291573   \n",
      "18           {urban, land, citi}         2040.0  2038.000000       10.778767   \n",
      "19  {green, roof, infrastructur}         2050.0  2040.200000       13.971399   \n",
      "20         {activ, school, walk}            NaN          NaN             NaN   \n",
      "21            {toll, lane, link}            NaN          NaN             NaN   \n",
      "\n",
      "    number_count  topic_size  \n",
      "0           21.0         349  \n",
      "1            1.0         482  \n",
      "2           18.0         241  \n",
      "3            1.0         316  \n",
      "4            3.0         317  \n",
      "5           62.0         467  \n",
      "6           11.0         330  \n",
      "7           37.0         217  \n",
      "8           10.0         525  \n",
      "9            3.0         393  \n",
      "10           5.0         193  \n",
      "11           4.0         222  \n",
      "12          11.0         381  \n",
      "13           1.0         146  \n",
      "14          22.0         853  \n",
      "15           1.0         225  \n",
      "16           3.0         143  \n",
      "17           3.0         245  \n",
      "18          12.0         309  \n",
      "19           5.0         158  \n",
      "20           NaN         379  \n",
      "21           NaN         186  \n"
     ]
    }
   ],
   "source": [
    "g = df[['topic','number']].groupby(['topic'], as_index=False)\n",
    "g = g.agg(['median','mean',np.std, 'count'], as_index=False).rename(columns={'std': 'std dev'}).reset_index()\n",
    "g.columns = g.columns.get_level_values(0) + \"_\" + g.columns.get_level_values(1)\n",
    "g = g.rename(columns={'topic_':'topic'}).sort_values('number_median')\n",
    "\n",
    "topic_summary = pd.merge(g,topics,how='right')\n",
    "print(topic_summary)\n",
    "topic_summary.to_csv(\"../data/year_summaries.csv\")"
   ]
  },
  {
   "cell_type": "code",
   "execution_count": null,
   "metadata": {
    "collapsed": true
   },
   "outputs": [],
   "source": []
  }
 ],
 "metadata": {
  "kernelspec": {
   "display_name": "Python 3",
   "language": "python",
   "name": "python3"
  },
  "language_info": {
   "codemirror_mode": {
    "name": "ipython",
    "version": 3
   },
   "file_extension": ".py",
   "mimetype": "text/x-python",
   "name": "python",
   "nbconvert_exporter": "python",
   "pygments_lexer": "ipython3",
   "version": "3.4.3"
  }
 },
 "nbformat": 4,
 "nbformat_minor": 2
}
