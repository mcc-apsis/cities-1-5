{
 "cells": [
  {
   "cell_type": "code",
   "execution_count": 4,
   "metadata": {
    "collapsed": true,
    "deletable": true,
    "editable": true
   },
   "outputs": [],
   "source": [
    "import os, sys, time, resource, re, gc, shutil\n",
    "from multiprocess import Pool\n",
    "from functools import partial\n",
    "from tabulate import tabulate\n",
    "from urllib.parse import urlparse, parse_qsl\n",
    "\n",
    "import matplotlib.pyplot as plt\n",
    "import numpy as np\n",
    "import pandas as pd\n",
    "from mongoengine.queryset.visitor import Q\n",
    "import django\n",
    "from django.db.models import Count, Sum\n",
    "sys.path.append('/home/galm/software/django/tmv/BasicBrowser/')\n",
    "os.environ.setdefault(\"DJANGO_SETTINGS_MODULE\", \"BasicBrowser.settings\")\n",
    "django.setup()\n",
    "\n",
    "from django.forms.models import model_to_dict\n",
    "\n",
    "from scoping.models import *\n",
    "from tmv_app.models import *\n",
    "from scipy import stats\n",
    "import ipy_table as tbl\n",
    "\n",
    "run_id = 359\n",
    "qid = 1603"
   ]
  },
  {
   "cell_type": "code",
   "execution_count": 5,
   "metadata": {
    "collapsed": false,
    "deletable": true,
    "editable": true
   },
   "outputs": [],
   "source": [
    "tnames = \"\"\"Planning & governance\n",
    "Active travel\n",
    "Network optimisation\n",
    "Energy efficiency & consumption\n",
    "Building energy standards\n",
    "Urban form\n",
    "GHG emissions\n",
    "Waste management\n",
    "Public transport\n",
    "Congestion charging\n",
    "System design\n",
    "Travel behaviour\n",
    "Thermal comfort\n",
    "e-Vehicles\n",
    "Waste water\n",
    "Rail transit\n",
    "Air quality\n",
    "Climate change mitigation\n",
    "Heating & cooling systems\n",
    "Transport services & provisioning\n",
    "Car parking\n",
    "Bus rapid transit\n",
    "Household recycling\n",
    "Road tolls\n",
    "Charging stations\n",
    "Building water use\n",
    "Cycling\n",
    "\"\"\"\n",
    "\n",
    "tname_list = tnames.split('\\n')\n"
   ]
  },
  {
   "cell_type": "code",
   "execution_count": 6,
   "metadata": {
    "collapsed": false,
    "deletable": true,
    "editable": true
   },
   "outputs": [
    {
     "name": "stdout",
     "output_type": "stream",
     "text": [
      "<QuerySet [{'title': 'Planning & governance'}, {'title': 'Active travel'}, {'title': 'Network optimisation'}, {'title': 'Energy efficiency & consumption'}, {'title': 'Building energy standards'}, {'title': 'Urban form'}, {'title': 'GHG emissions'}, {'title': 'Waste management'}, {'title': 'Public transport'}, {'title': 'Congestion charging'}, {'title': 'System design'}, {'title': 'Travel behaviour'}, {'title': 'Thermal comfort'}, {'title': 'e-Vehicles'}, {'title': 'Waste water'}, {'title': 'Rail transit'}, {'title': 'Air quality'}, {'title': 'Climate change mitigation'}, {'title': 'Heating & cooling systems'}, {'title': 'Transport services & provisioning'}, '...(remaining elements truncated)...']>\n"
     ]
    }
   ],
   "source": [
    "topics = Topic.objects.filter(run_id=run_id).order_by('-score')\n",
    "\n",
    "i = 0\n",
    "for t in topics:\n",
    "    t.title= tname_list[i]\n",
    "    i+=1\n",
    "    t.save()\n",
    "print(topics.values('title'))"
   ]
  }
 ],
 "metadata": {
  "kernelspec": {
   "display_name": "Python 3",
   "language": "python",
   "name": "python3"
  },
  "language_info": {
   "codemirror_mode": {
    "name": "ipython",
    "version": 3
   },
   "file_extension": ".py",
   "mimetype": "text/x-python",
   "name": "python",
   "nbconvert_exporter": "python",
   "pygments_lexer": "ipython3",
   "version": "3.4.3"
  }
 },
 "nbformat": 4,
 "nbformat_minor": 2
}
