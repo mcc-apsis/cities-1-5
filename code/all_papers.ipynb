{
 "cells": [
  {
   "cell_type": "code",
   "execution_count": 60,
   "metadata": {
    "collapsed": true,
    "deletable": true,
    "editable": true
   },
   "outputs": [],
   "source": [
    "import os, sys, time, resource, re, gc, shutil\n",
    "from multiprocess import Pool\n",
    "from functools import partial\n",
    "from tabulate import tabulate\n",
    "from urllib.parse import urlparse, parse_qsl\n",
    "\n",
    "import matplotlib.pyplot as plt\n",
    "import numpy as np\n",
    "import pandas as pd\n",
    "from mongoengine.queryset.visitor import Q\n",
    "import django\n",
    "from django.db.models import Count\n",
    "sys.path.append('/home/galm/software/tmv/BasicBrowser/')\n",
    "os.environ.setdefault(\"DJANGO_SETTINGS_MODULE\", \"BasicBrowser.settings\")\n",
    "django.setup()\n",
    "\n",
    "from scoping.models import *\n",
    "from tmv_app.models import *\n",
    "from django.db.models import F"
   ]
  },
  {
   "cell_type": "code",
   "execution_count": 61,
   "metadata": {
    "collapsed": true,
    "deletable": true,
    "editable": true
   },
   "outputs": [],
   "source": [
    "# Set the run id and query id\n",
    "run_id=181\n",
    "qid=1281"
   ]
  },
  {
   "cell_type": "code",
   "execution_count": 62,
   "metadata": {
    "collapsed": true,
    "deletable": true,
    "editable": true
   },
   "outputs": [],
   "source": [
    "def get_authors(x):\n",
    "    p = Doc.objects.get(pk=x)\n",
    "    das = p.docauthinst_set.order_by(\n",
    "            'AU','position'\n",
    "        ).distinct('AU').values_list('id',flat=True)\n",
    "    authors = p.docauthinst_set.filter(\n",
    "        id__in=das\n",
    "    ).order_by('position').values_list('AU',flat=True)\n",
    "    authors = \", \".join(authors)\n",
    "    return(authors)"
   ]
  },
  {
   "cell_type": "code",
   "execution_count": 63,
   "metadata": {
    "collapsed": false,
    "deletable": true,
    "editable": true
   },
   "outputs": [],
   "source": [
    "icols = ['doc_id','doc__PY','doc__wosarticle__so','doc__wosarticle__di','doc__title','doc__wosarticle__dt']\n",
    "\n",
    "dts = DocTopic.objects.filter(run_id=run_id).values(\n",
    "    'doc_id','doc__PY','doc__wosarticle__so','doc__wosarticle__di','doc__title','doc__wosarticle__dt','topic__title','score'\n",
    ")\n",
    "df = pd.DataFrame.from_dict(list(dts))\n",
    "\n",
    "df_wide = df.pivot_table(index=icols,columns='topic__title',values='score').fillna(0)\n",
    "\n",
    "df_wide = df_wide.reset_index()\n",
    "\n",
    "df_wide['authors'] = df_wide.apply(lambda x: get_authors(x['doc_id']),axis=1)\n",
    "\n",
    "df_wide.to_csv('../data/doc_topics.csv')"
   ]
  },
  {
   "cell_type": "code",
   "execution_count": 64,
   "metadata": {
    "collapsed": false,
    "deletable": true,
    "editable": true
   },
   "outputs": [
    {
     "name": "stdout",
     "output_type": "stream",
     "text": [
      "['doc_id', 'doc__PY', 'doc__wosarticle__so', 'doc__wosarticle__di', 'doc__title', 'doc__wosarticle__dt', '{activ, school, health}', '{air, pollut, qualiti}', '{bicycl, cycl, cyclist}', '{brt, bus, system}', '{bus, servic, oper}', '{climat, chang, mitig}', '{develop, sustain, plan}', '{emiss, carbon, ghg}', '{energi, build, consumpt}', '{green, build, roof}', '{heat, thermal, comfort}', '{model, network, optim}', '{park, space, price}', '{polici, instrument, effect}', '{price, congest, road}', '{recycl, household, collect}', '{toll, lane, link}', '{transit, rail, station}', '{transport, public, access}', '{travel, mode, choic}', '{treatment, wastewat, plant}', '{urban, land, citi}', '{vehicl, electr, charg}', '{wast, manag, solid}', '{water, heat, suppli}', 'authors']\n"
     ]
    }
   ],
   "source": [
    "print(df_wide.columns.tolist())"
   ]
  },
  {
   "cell_type": "code",
   "execution_count": 65,
   "metadata": {
    "collapsed": false,
    "deletable": true,
    "editable": true
   },
   "outputs": [],
   "source": [
    "cols = df_wide.columns.tolist()\n",
    "cols = [cols[-1]] + cols[1:-1]\n",
    "\n",
    "df_wide2 = df_wide[cols]\n",
    "df_wide2.reset_index(drop=True)\n",
    "df_wide2.to_csv('../data/doc_topics.csv',index=False)"
   ]
  },
  {
   "cell_type": "code",
   "execution_count": 66,
   "metadata": {
    "collapsed": false,
    "deletable": true,
    "editable": true
   },
   "outputs": [
    {
     "data": {
      "image/png": "[encoded data removed]",
      "text/plain": [
       "<matplotlib.figure.Figure at 0x7fda18bd2550>"
      ]
     },
     "metadata": {},
     "output_type": "display_data"
    }
   ],
   "source": [
    "fig = plt.figure()\n",
    "ax = fig.add_subplot(111)\n",
    "\n",
    "df.plot.hist(ax=ax,bins=30,  legend=False)\n",
    "ax1 = ax.twinx()\n",
    "df.plot(kind=\"kde\",ax=ax1, legend=False )\n",
    "plt.show()"
   ]
  },
  {
   "cell_type": "code",
   "execution_count": null,
   "metadata": {
    "collapsed": false,
    "deletable": true,
    "editable": true
   },
   "outputs": [],
   "source": [
    "# Get the papers\n"
   ]
  },
  {
   "cell_type": "code",
   "execution_count": null,
   "metadata": {
    "collapsed": false,
    "deletable": true,
    "editable": true
   },
   "outputs": [],
   "source": [
    "import csv\n",
    "\n",
    "papers = Doc.objects.filter(query=qid)\n",
    "\n",
    "with open('../data/doc_topics_compact.csv', 'w', newline='') as csvfile:\n",
    "    f = csv.writer(csvfile)\n",
    "    f.writerow(['author','year','source','title','doi','main topics','smaller topics'])\n",
    "\n",
    "    for p in papers.iterator():\n",
    "        main_topics = \"; \".join([x.topic.title for x in p.doctopic_set.filter(run_id=run_id,score__gt=0.02).order_by('-score')])\n",
    "        \n",
    "        small_topics = \"; \".join([x.topic.title for x in p.doctopic_set.filter(run_id=run_id,score__gt=0.01,score__lt=0.02).order_by('-score')])\n",
    "        das = p.docauthinst_set.order_by(\n",
    "            'AU','position'\n",
    "        ).distinct('AU').values_list('id',flat=True)\n",
    "        authors = p.docauthinst_set.filter(\n",
    "            id__in=das\n",
    "        ).order_by('position').values_list('AU',flat=True)\n",
    "        authors = \", \".join(authors)\n",
    "        f.writerow([authors,str(p.PY),p.wosarticle.so,p.title,p.wosarticle.di,main_topics,small_topics])"
   ]
  },
  {
   "cell_type": "code",
   "execution_count": null,
   "metadata": {
    "collapsed": false,
    "deletable": true,
    "editable": true
   },
   "outputs": [],
   "source": [
    "[authors,str(p.PY),p.wosarticle.so,p.title,p.wosarticle.di,main_topics,small_topics]"
   ]
  },
  {
   "cell_type": "code",
   "execution_count": null,
   "metadata": {
    "collapsed": false,
    "deletable": true,
    "editable": true
   },
   "outputs": [],
   "source": [
    "p.docauthinst_set.order_by(\n",
    "            'AU','position'\n",
    "        ).distinct('AU').values_list('id',flat=True)"
   ]
  },
  {
   "cell_type": "code",
   "execution_count": 54,
   "metadata": {
    "collapsed": false,
    "deletable": true,
    "editable": true
   },
   "outputs": [],
   "source": [
    "docs = Doc.objects.filter(query=qid)\n",
    "reviews = docs.values('wosarticle__dt').annotate(t=Count('pk'))"
   ]
  },
  {
   "cell_type": "code",
   "execution_count": 55,
   "metadata": {
    "collapsed": false
   },
   "outputs": [
    {
     "data": {
      "text/html": [
       "<div>\n",
       "<table border=\"1\" class=\"dataframe\">\n",
       "  <thead>\n",
       "    <tr style=\"text-align: right;\">\n",
       "      <th></th>\n",
       "      <th>t</th>\n",
       "      <th>wosarticle__dt</th>\n",
       "    </tr>\n",
       "  </thead>\n",
       "  <tbody>\n",
       "    <tr>\n",
       "      <th>0</th>\n",
       "      <td>3</td>\n",
       "      <td>Correction</td>\n",
       "    </tr>\n",
       "    <tr>\n",
       "      <th>1</th>\n",
       "      <td>7</td>\n",
       "      <td>Meeting Abstract</td>\n",
       "    </tr>\n",
       "    <tr>\n",
       "      <th>2</th>\n",
       "      <td>1</td>\n",
       "      <td>Abstract of Published Item</td>\n",
       "    </tr>\n",
       "    <tr>\n",
       "      <th>3</th>\n",
       "      <td>509</td>\n",
       "      <td>Article; Proceedings Paper</td>\n",
       "    </tr>\n",
       "    <tr>\n",
       "      <th>4</th>\n",
       "      <td>65</td>\n",
       "      <td>Book Review</td>\n",
       "    </tr>\n",
       "    <tr>\n",
       "      <th>5</th>\n",
       "      <td>8</td>\n",
       "      <td>Review; Book Chapter</td>\n",
       "    </tr>\n",
       "    <tr>\n",
       "      <th>6</th>\n",
       "      <td>63</td>\n",
       "      <td>Editorial Material</td>\n",
       "    </tr>\n",
       "    <tr>\n",
       "      <th>7</th>\n",
       "      <td>4</td>\n",
       "      <td>Article; Book Chapter</td>\n",
       "    </tr>\n",
       "    <tr>\n",
       "      <th>8</th>\n",
       "      <td>7050</td>\n",
       "      <td>Article</td>\n",
       "    </tr>\n",
       "    <tr>\n",
       "      <th>9</th>\n",
       "      <td>1</td>\n",
       "      <td>Software Review</td>\n",
       "    </tr>\n",
       "    <tr>\n",
       "      <th>10</th>\n",
       "      <td>2</td>\n",
       "      <td>Reprint</td>\n",
       "    </tr>\n",
       "    <tr>\n",
       "      <th>11</th>\n",
       "      <td>3</td>\n",
       "      <td>Letter</td>\n",
       "    </tr>\n",
       "    <tr>\n",
       "      <th>12</th>\n",
       "      <td>1</td>\n",
       "      <td>Editorial Material; Retracted Publication</td>\n",
       "    </tr>\n",
       "    <tr>\n",
       "      <th>13</th>\n",
       "      <td>5</td>\n",
       "      <td>News Item</td>\n",
       "    </tr>\n",
       "    <tr>\n",
       "      <th>14</th>\n",
       "      <td>1</td>\n",
       "      <td>Note</td>\n",
       "    </tr>\n",
       "    <tr>\n",
       "      <th>15</th>\n",
       "      <td>372</td>\n",
       "      <td>Review</td>\n",
       "    </tr>\n",
       "  </tbody>\n",
       "</table>\n",
       "</div>"
      ],
      "text/plain": [
       "       t                             wosarticle__dt\n",
       "0      3                                 Correction\n",
       "1      7                           Meeting Abstract\n",
       "2      1                 Abstract of Published Item\n",
       "3    509                 Article; Proceedings Paper\n",
       "4     65                                Book Review\n",
       "5      8                       Review; Book Chapter\n",
       "6     63                         Editorial Material\n",
       "7      4                      Article; Book Chapter\n",
       "8   7050                                    Article\n",
       "9      1                            Software Review\n",
       "10     2                                    Reprint\n",
       "11     3                                     Letter\n",
       "12     1  Editorial Material; Retracted Publication\n",
       "13     5                                  News Item\n",
       "14     1                                       Note\n",
       "15   372                                     Review"
      ]
     },
     "execution_count": 55,
     "metadata": {},
     "output_type": "execute_result"
    }
   ],
   "source": [
    "reviews = pd.DataFrame.from_dict(list(reviews))\n",
    "reviews\n"
   ]
  },
  {
   "cell_type": "code",
   "execution_count": 53,
   "metadata": {
    "collapsed": false
   },
   "outputs": [
    {
     "data": {
      "text/plain": [
       "8095"
      ]
     },
     "execution_count": 53,
     "metadata": {},
     "output_type": "execute_result"
    }
   ],
   "source": [
    "docs.count()"
   ]
  },
  {
   "cell_type": "code",
   "execution_count": 57,
   "metadata": {
    "collapsed": false
   },
   "outputs": [],
   "source": [
    "p1 = 1990\n",
    "p2 = 2016\n",
    "F = docs.filter(PY=p1).count()\n",
    "L = docs.filter(PY=p2).count()\n",
    "N = p2-p1\n",
    "\n",
    "CAGR = (L/F)**(1/N)-1"
   ]
  },
  {
   "cell_type": "code",
   "execution_count": 58,
   "metadata": {
    "collapsed": false
   },
   "outputs": [
    {
     "data": {
      "text/plain": [
       "0.20540589103877305"
      ]
     },
     "execution_count": 58,
     "metadata": {},
     "output_type": "execute_result"
    }
   ],
   "source": [
    "CAGR"
   ]
  },
  {
   "cell_type": "code",
   "execution_count": null,
   "metadata": {
    "collapsed": false
   },
   "outputs": [],
   "source": []
  },
  {
   "cell_type": "code",
   "execution_count": null,
   "metadata": {
    "collapsed": true
   },
   "outputs": [],
   "source": []
  }
 ],
 "metadata": {
  "kernelspec": {
   "display_name": "Python 3",
   "language": "python",
   "name": "python3"
  },
  "language_info": {
   "codemirror_mode": {
    "name": "ipython",
    "version": 3
   },
   "file_extension": ".py",
   "mimetype": "text/x-python",
   "name": "python",
   "nbconvert_exporter": "python",
   "pygments_lexer": "ipython3",
   "version": "3.4.3"
  }
 },
 "nbformat": 4,
 "nbformat_minor": 2
}
