{
 "cells": [
  {
   "cell_type": "code",
   "execution_count": 1,
   "metadata": {
    "collapsed": true
   },
   "outputs": [],
   "source": [
    "import os, sys, time, resource, re, gc, shutil\n",
    "from multiprocess import Pool\n",
    "from functools import partial\n",
    "from tabulate import tabulate\n",
    "from urllib.parse import urlparse, parse_qsl\n",
    "\n",
    "import matplotlib.pyplot as plt\n",
    "import numpy as np\n",
    "import pandas as pd\n",
    "from mongoengine.queryset.visitor import Q\n",
    "import django\n",
    "from django.db.models import Count\n",
    "sys.path.append('/home/galm/software/tmv/BasicBrowser/')\n",
    "os.environ.setdefault(\"DJANGO_SETTINGS_MODULE\", \"BasicBrowser.settings\")\n",
    "django.setup()\n",
    "\n",
    "from scoping.models import *\n",
    "from tmv_app.models import *\n",
    "from django.db.models import F"
   ]
  },
  {
   "cell_type": "code",
   "execution_count": 2,
   "metadata": {
    "collapsed": true
   },
   "outputs": [],
   "source": [
    "# Set the run id and query id\n",
    "run_id=181\n",
    "qid=1281"
   ]
  },
  {
   "cell_type": "code",
   "execution_count": 37,
   "metadata": {
    "collapsed": false
   },
   "outputs": [],
   "source": [
    "dts = DocTopic.objects.filter(run_id=run_id).values('doc_id','doc__title','topic__title','score')\n",
    "df = pd.DataFrame.from_dict(list(dts))\n",
    "df_wide = df.pivot_table(index=['doc_id','doc__title'],columns='topic__title',values='score').fillna(0)\n",
    "\n",
    "df_wide.to_csv('../data/doc_topics.csv')"
   ]
  },
  {
   "cell_type": "code",
   "execution_count": 46,
   "metadata": {
    "collapsed": false
   },
   "outputs": [
    {
     "data": {
      "image/png": "[encoded data removed]",
      "text/plain": [
       "<matplotlib.figure.Figure at 0x7f49b3a39048>"
      ]
     },
     "metadata": {},
     "output_type": "display_data"
    }
   ],
   "source": [
    "fig = plt.figure()\n",
    "ax = fig.add_subplot(111)\n",
    "\n",
    "df.plot.hist(ax=ax,bins=30,  legend=False)\n",
    "ax1 = ax.twinx()\n",
    "df.plot(kind=\"kde\",ax=ax1, legend=False )\n",
    "plt.show()"
   ]
  },
  {
   "cell_type": "code",
   "execution_count": 51,
   "metadata": {
    "collapsed": false
   },
   "outputs": [],
   "source": [
    "# Get the papers\n"
   ]
  },
  {
   "cell_type": "code",
   "execution_count": null,
   "metadata": {
    "collapsed": false
   },
   "outputs": [],
   "source": [
    "import csv\n",
    "\n",
    "papers = Doc.objects.filter(query=qid)\n",
    "\n",
    "with open('../data/doc_topics_compact.csv', 'w', newline='') as csvfile:\n",
    "    f = csv.writer(csvfile)\n",
    "    f.writerow(['paper','main topics','smaller topics'])\n",
    "\n",
    "    for p in papers.iterator():\n",
    "        main_topics = \"; \".join([x.topic.title for x in p.doctopic_set.filter(run_id=run_id,score__gt=0.02).order_by('-score')])\n",
    "        \n",
    "        small_topics = \"; \".join([x.topic.title for x in p.doctopic_set.filter(run_id=run_id,score__gt=0.01,score__lt=0.02).order_by('-score')])\n",
    "        dis = p.citation()\n",
    "        f.writerow([dis,main_topics,small_topics])"
   ]
  },
  {
   "cell_type": "code",
   "execution_count": 50,
   "metadata": {
    "collapsed": false
   },
   "outputs": [
    {
     "name": "stdout",
     "output_type": "stream",
     "text": [
      "Effects of aggregate reuse for overpass reconstruction-extension projects on energy conservation and greenhouse gas reduction: A case study from Shanghai City\n",
      "['0.0524018090338123  :  {emiss, carbon, ghg}', '0.0276011659810759  :  {energi, build, consumpt}']\n"
     ]
    }
   ],
   "source": [
    "\n"
   ]
  },
  {
   "cell_type": "code",
   "execution_count": null,
   "metadata": {
    "collapsed": true
   },
   "outputs": [],
   "source": []
  }
 ],
 "metadata": {
  "kernelspec": {
   "display_name": "Python 3",
   "language": "python",
   "name": "python3"
  },
  "language_info": {
   "codemirror_mode": {
    "name": "ipython",
    "version": 3
   },
   "file_extension": ".py",
   "mimetype": "text/x-python",
   "name": "python",
   "nbconvert_exporter": "python",
   "pygments_lexer": "ipython3",
   "version": "3.4.3"
  }
 },
 "nbformat": 4,
 "nbformat_minor": 2
}
