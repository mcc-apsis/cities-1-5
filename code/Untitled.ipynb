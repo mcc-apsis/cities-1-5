{
 "cells": [
  {
   "cell_type": "code",
   "execution_count": 14,
   "metadata": {
    "collapsed": true,
    "deletable": true,
    "editable": true
   },
   "outputs": [],
   "source": [
    "import os, sys, time, resource, re, gc, shutil\n",
    "from multiprocess import Pool\n",
    "from functools import partial\n",
    "from tabulate import tabulate\n",
    "from urllib.parse import urlparse, parse_qsl\n",
    "\n",
    "import matplotlib.pyplot as plt\n",
    "import numpy as np\n",
    "import pandas as pd\n",
    "from mongoengine.queryset.visitor import Q\n",
    "import django\n",
    "from django.db.models import Count, Sum\n",
    "sys.path.append('/home/galm/software/tmv/BasicBrowser/')\n",
    "os.environ.setdefault(\"DJANGO_SETTINGS_MODULE\", \"BasicBrowser.settings\")\n",
    "django.setup()\n",
    "\n",
    "from django.forms.models import model_to_dict\n",
    "\n",
    "from scoping.models import *\n",
    "from tmv_app.models import *\n",
    "from scipy import stats\n",
    "import ipy_table as tbl\n",
    "from itertools import islice\n",
    "\n",
    "run_id = 181\n",
    "qid = 1281"
   ]
  },
  {
   "cell_type": "code",
   "execution_count": 15,
   "metadata": {
    "collapsed": true,
    "deletable": true,
    "editable": true
   },
   "outputs": [],
   "source": [
    "from openpyxl import Workbook, load_workbook"
   ]
  },
  {
   "cell_type": "code",
   "execution_count": 16,
   "metadata": {
    "collapsed": false,
    "deletable": true,
    "editable": true
   },
   "outputs": [],
   "source": [
    "wb = load_workbook('../data/bibliometric nodes.xlsx')\n",
    "ws = wb['useme']\n",
    "data = ws.values\n",
    "cols = next(data)[1:]\n",
    "data = list(data)\n",
    "idx = [r[0] for r in data]\n",
    "data = (islice(r, 1, None) for r in data)\n",
    "df = pd.DataFrame(data, index=idx, columns=cols)"
   ]
  },
  {
   "cell_type": "code",
   "execution_count": 18,
   "metadata": {
    "collapsed": false
   },
   "outputs": [
    {
     "data": {
      "text/html": [
       "<div>\n",
       "<table border=\"1\" class=\"dataframe\">\n",
       "  <thead>\n",
       "    <tr style=\"text-align: right;\">\n",
       "      <th></th>\n",
       "      <th>label</th>\n",
       "      <th>timeset</th>\n",
       "      <th>weight&lt;total_link_strength&gt;</th>\n",
       "      <th>weight&lt;norm._citations&gt;</th>\n",
       "      <th>score&lt;citations&gt;</th>\n",
       "      <th>score&lt;norm._citations&gt;</th>\n",
       "      <th>score&lt;pub._year&gt;</th>\n",
       "      <th>weight&lt;links&gt;</th>\n",
       "      <th>weight&lt;citations&gt;</th>\n",
       "      <th>cluster</th>\n",
       "      <th>title</th>\n",
       "      <th>source</th>\n",
       "      <th>description</th>\n",
       "      <th>url</th>\n",
       "      <th>id</th>\n",
       "    </tr>\n",
       "  </thead>\n",
       "  <tbody>\n",
       "    <tr>\n",
       "      <th>11</th>\n",
       "      <td>kamargianni (2013)</td>\n",
       "      <td>None</td>\n",
       "      <td>162</td>\n",
       "      <td>1.3830</td>\n",
       "      <td>14</td>\n",
       "      <td>1.3830</td>\n",
       "      <td>2013</td>\n",
       "      <td>122</td>\n",
       "      <td>14</td>\n",
       "      <td>7</td>\n",
       "      <td>hybrid choice model to investigate effects of ...</td>\n",
       "      <td>transportation research record</td>\n",
       "      <td>&lt;table&gt;&lt;tr&gt;&lt;td&gt;Authors:&lt;/td&gt;&lt;td&gt;kamargianni, m...</td>\n",
       "      <td>http://dx.doi.org/10.3141/2382-17</td>\n",
       "      <td>11</td>\n",
       "    </tr>\n",
       "    <tr>\n",
       "      <th>17</th>\n",
       "      <td>wang (2013)</td>\n",
       "      <td>None</td>\n",
       "      <td>84</td>\n",
       "      <td>0.9878</td>\n",
       "      <td>10</td>\n",
       "      <td>0.9878</td>\n",
       "      <td>2013</td>\n",
       "      <td>61</td>\n",
       "      <td>10</td>\n",
       "      <td>3</td>\n",
       "      <td>policies and practices of low carbon city deve...</td>\n",
       "      <td>energy &amp; environment</td>\n",
       "      <td>&lt;table&gt;&lt;tr&gt;&lt;td&gt;Authors:&lt;/td&gt;&lt;td&gt;wang, c; lin, ...</td>\n",
       "      <td>None</td>\n",
       "      <td>17</td>\n",
       "    </tr>\n",
       "    <tr>\n",
       "      <th>23</th>\n",
       "      <td>shirmohammadi (2013)</td>\n",
       "      <td>None</td>\n",
       "      <td>182</td>\n",
       "      <td>1.0866</td>\n",
       "      <td>11</td>\n",
       "      <td>1.0866</td>\n",
       "      <td>2013</td>\n",
       "      <td>118</td>\n",
       "      <td>11</td>\n",
       "      <td>1</td>\n",
       "      <td>analysis and design of tradable credit schemes...</td>\n",
       "      <td>transportation research record</td>\n",
       "      <td>&lt;table&gt;&lt;tr&gt;&lt;td&gt;Authors:&lt;/td&gt;&lt;td&gt;shirmohammadi,...</td>\n",
       "      <td>http://dx.doi.org/10.3141/2333-04</td>\n",
       "      <td>23</td>\n",
       "    </tr>\n",
       "    <tr>\n",
       "      <th>28</th>\n",
       "      <td>jin (2013)</td>\n",
       "      <td>None</td>\n",
       "      <td>168</td>\n",
       "      <td>0.4939</td>\n",
       "      <td>5</td>\n",
       "      <td>0.4939</td>\n",
       "      <td>2013</td>\n",
       "      <td>145</td>\n",
       "      <td>5</td>\n",
       "      <td>7</td>\n",
       "      <td>a recursive spatial equilibrium model for plan...</td>\n",
       "      <td>environment and planning b-planning &amp; design</td>\n",
       "      <td>&lt;table&gt;&lt;tr&gt;&lt;td&gt;Authors:&lt;/td&gt;&lt;td&gt;jin, y; echeni...</td>\n",
       "      <td>http://dx.doi.org/10.1068/b39134</td>\n",
       "      <td>28</td>\n",
       "    </tr>\n",
       "    <tr>\n",
       "      <th>43</th>\n",
       "      <td>schroeder (2013)</td>\n",
       "      <td>None</td>\n",
       "      <td>80</td>\n",
       "      <td>0.8890</td>\n",
       "      <td>9</td>\n",
       "      <td>0.8890</td>\n",
       "      <td>2013</td>\n",
       "      <td>54</td>\n",
       "      <td>9</td>\n",
       "      <td>3</td>\n",
       "      <td>novel multisector networks and entrepreneurshi...</td>\n",
       "      <td>environment and planning c-government and policy</td>\n",
       "      <td>&lt;table&gt;&lt;tr&gt;&lt;td&gt;Authors:&lt;/td&gt;&lt;td&gt;schroeder, h; ...</td>\n",
       "      <td>http://dx.doi.org/10.1068/c3105ed</td>\n",
       "      <td>43</td>\n",
       "    </tr>\n",
       "  </tbody>\n",
       "</table>\n",
       "</div>"
      ],
      "text/plain": [
       "                   label timeset  weight<total_link_strength>  \\\n",
       "11    kamargianni (2013)    None                          162   \n",
       "17           wang (2013)    None                           84   \n",
       "23  shirmohammadi (2013)    None                          182   \n",
       "28            jin (2013)    None                          168   \n",
       "43      schroeder (2013)    None                           80   \n",
       "\n",
       "    weight<norm._citations>  score<citations>  score<norm._citations>  \\\n",
       "11                   1.3830                14                  1.3830   \n",
       "17                   0.9878                10                  0.9878   \n",
       "23                   1.0866                11                  1.0866   \n",
       "28                   0.4939                 5                  0.4939   \n",
       "43                   0.8890                 9                  0.8890   \n",
       "\n",
       "    score<pub._year>  weight<links>  weight<citations>  cluster  \\\n",
       "11              2013            122                 14        7   \n",
       "17              2013             61                 10        3   \n",
       "23              2013            118                 11        1   \n",
       "28              2013            145                  5        7   \n",
       "43              2013             54                  9        3   \n",
       "\n",
       "                                                title  \\\n",
       "11  hybrid choice model to investigate effects of ...   \n",
       "17  policies and practices of low carbon city deve...   \n",
       "23  analysis and design of tradable credit schemes...   \n",
       "28  a recursive spatial equilibrium model for plan...   \n",
       "43  novel multisector networks and entrepreneurshi...   \n",
       "\n",
       "                                              source  \\\n",
       "11                    transportation research record   \n",
       "17                              energy & environment   \n",
       "23                    transportation research record   \n",
       "28      environment and planning b-planning & design   \n",
       "43  environment and planning c-government and policy   \n",
       "\n",
       "                                          description  \\\n",
       "11  <table><tr><td>Authors:</td><td>kamargianni, m...   \n",
       "17  <table><tr><td>Authors:</td><td>wang, c; lin, ...   \n",
       "23  <table><tr><td>Authors:</td><td>shirmohammadi,...   \n",
       "28  <table><tr><td>Authors:</td><td>jin, y; echeni...   \n",
       "43  <table><tr><td>Authors:</td><td>schroeder, h; ...   \n",
       "\n",
       "                                  url  id  \n",
       "11  http://dx.doi.org/10.3141/2382-17  11  \n",
       "17                               None  17  \n",
       "23  http://dx.doi.org/10.3141/2333-04  23  \n",
       "28   http://dx.doi.org/10.1068/b39134  28  \n",
       "43  http://dx.doi.org/10.1068/c3105ed  43  "
      ]
     },
     "execution_count": 18,
     "metadata": {},
     "output_type": "execute_result"
    }
   ],
   "source": [
    "df['id'] = df.index\n",
    "df.head()"
   ]
  },
  {
   "cell_type": "code",
   "execution_count": 19,
   "metadata": {
    "collapsed": false,
    "deletable": true,
    "editable": true
   },
   "outputs": [],
   "source": [
    "def get_topic(x):\n",
    "    try:\n",
    "        doi = x.replace('http://dx.doi.org/','')\n",
    "        p = Doc.objects.get(wosarticle__di=doi)\n",
    "        topic = DocTopic.objects.filter(run_id=run_id,doc=p).order_by('-score').first().topic.title\n",
    "    except:\n",
    "        topic = \"\"\n",
    "    return(topic)"
   ]
  },
  {
   "cell_type": "code",
   "execution_count": 20,
   "metadata": {
    "collapsed": false,
    "deletable": true,
    "editable": true
   },
   "outputs": [],
   "source": [
    "df['main_topic'] = df.apply(lambda x: get_topic(x['url']),axis=1)"
   ]
  },
  {
   "cell_type": "code",
   "execution_count": 13,
   "metadata": {
    "collapsed": false,
    "deletable": true,
    "editable": true
   },
   "outputs": [],
   "source": [
    "df.to_csv('../data/bibliometric_nodes.csv',index=False)"
   ]
  },
  {
   "cell_type": "code",
   "execution_count": null,
   "metadata": {
    "collapsed": true,
    "deletable": true,
    "editable": true
   },
   "outputs": [],
   "source": []
  }
 ],
 "metadata": {
  "kernelspec": {
   "display_name": "Python 3",
   "language": "python",
   "name": "python3"
  },
  "language_info": {
   "codemirror_mode": {
    "name": "ipython",
    "version": 3
   },
   "file_extension": ".py",
   "mimetype": "text/x-python",
   "name": "python",
   "nbconvert_exporter": "python",
   "pygments_lexer": "ipython3",
   "version": "3.4.3"
  }
 },
 "nbformat": 4,
 "nbformat_minor": 2
}
