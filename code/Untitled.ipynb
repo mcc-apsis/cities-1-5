{
 "cells": [
  {
   "cell_type": "code",
   "execution_count": 1,
   "metadata": {
    "collapsed": true
   },
   "outputs": [],
   "source": [
    "import os, sys, time, resource, re, gc, shutil\n",
    "from multiprocess import Pool\n",
    "from functools import partial\n",
    "from tabulate import tabulate\n",
    "from urllib.parse import urlparse, parse_qsl\n",
    "\n",
    "import matplotlib.pyplot as plt\n",
    "import numpy as np\n",
    "import pandas as pd\n",
    "from mongoengine.queryset.visitor import Q\n",
    "import django\n",
    "from django.db.models import Count, Sum\n",
    "sys.path.append('/home/galm/software/tmv/BasicBrowser/')\n",
    "os.environ.setdefault(\"DJANGO_SETTINGS_MODULE\", \"BasicBrowser.settings\")\n",
    "django.setup()\n",
    "\n",
    "from django.forms.models import model_to_dict\n",
    "\n",
    "from scoping.models import *\n",
    "from tmv_app.models import *\n",
    "from scipy import stats\n",
    "import ipy_table as tbl\n",
    "from itertools import islice\n",
    "\n",
    "run_id = 181\n",
    "qid = 1281"
   ]
  },
  {
   "cell_type": "code",
   "execution_count": 2,
   "metadata": {
    "collapsed": true
   },
   "outputs": [],
   "source": [
    "from openpyxl import Workbook, load_workbook"
   ]
  },
  {
   "cell_type": "code",
   "execution_count": 3,
   "metadata": {
    "collapsed": false
   },
   "outputs": [],
   "source": [
    "wb = load_workbook('../data/bibliometric nodes.xlsx')\n",
    "ws = wb['useme']\n",
    "data = ws.values\n",
    "cols = next(data)[1:]\n",
    "data = list(data)\n",
    "idx = [r[0] for r in data]\n",
    "data = (islice(r, 1, None) for r in data)\n",
    "df = pd.DataFrame(data, index=idx, columns=cols)"
   ]
  },
  {
   "cell_type": "code",
   "execution_count": 4,
   "metadata": {
    "collapsed": false
   },
   "outputs": [],
   "source": [
    "def get_topic(x):\n",
    "    try:\n",
    "        doi = x.replace('http://dx.doi.org/','')\n",
    "        p = Doc.objects.get(wosarticle__di=doi)\n",
    "        topic = DocTopic.objects.filter(run_id=run_id,doc=p).order_by('-score').first().topic.title\n",
    "    except:\n",
    "        topic = \"\"\n",
    "    return(topic)"
   ]
  },
  {
   "cell_type": "code",
   "execution_count": 5,
   "metadata": {
    "collapsed": false
   },
   "outputs": [],
   "source": [
    "df['main_topic'] = df.apply(lambda x: get_topic(x['url']),axis=1)"
   ]
  },
  {
   "cell_type": "code",
   "execution_count": 7,
   "metadata": {
    "collapsed": false
   },
   "outputs": [],
   "source": [
    "df.to_csv('../data/bibliometric_nodes.csv',index=False)"
   ]
  },
  {
   "cell_type": "code",
   "execution_count": null,
   "metadata": {
    "collapsed": true
   },
   "outputs": [],
   "source": []
  }
 ],
 "metadata": {
  "kernelspec": {
   "display_name": "Python 3",
   "language": "python",
   "name": "python3"
  },
  "language_info": {
   "codemirror_mode": {
    "name": "ipython",
    "version": 3
   },
   "file_extension": ".py",
   "mimetype": "text/x-python",
   "name": "python",
   "nbconvert_exporter": "python",
   "pygments_lexer": "ipython3",
   "version": "3.4.3"
  }
 },
 "nbformat": 4,
 "nbformat_minor": 2
}
